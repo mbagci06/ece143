{
 "cells": [
  {
   "cell_type": "code",
   "execution_count": 1,
   "metadata": {},
   "outputs": [],
   "source": [
    "import numpy as np \n",
    "import matplotlib.pyplot as plt \n",
    "import pandas as pd \n",
    "import os \n",
    "from scipy.stats import pearsonr\n",
    "from scipy.stats import spearmanr\n",
    "import seaborn as sns\n",
    "import matplotlib.pyplot as plt\n",
    "\"\"\"\n",
    "The Author:\n",
    "Mehmet F BAGCI\n",
    "\"\"\""
   ]
  },
  {
   "attachments": {},
   "cell_type": "markdown",
   "metadata": {},
   "source": [
    "# The Survey Related Plots Created In This Script  \n",
    "## 2 dictionary crated. One of them contains the question and the other one has the answers. \n"
   ]
  },
  {
   "cell_type": "code",
   "execution_count": 2,
   "metadata": {},
   "outputs": [],
   "source": [
    "# The dataset called here \n",
    "survey_data=pd.read_csv('survey_nonvote.txt').fillna(method='ffill')"
   ]
  },
  {
   "cell_type": "code",
   "execution_count": 3,
   "metadata": {},
   "outputs": [
    {
     "data": {
      "text/html": [
       "<div>\n",
       "<style scoped>\n",
       "    .dataframe tbody tr th:only-of-type {\n",
       "        vertical-align: middle;\n",
       "    }\n",
       "\n",
       "    .dataframe tbody tr th {\n",
       "        vertical-align: top;\n",
       "    }\n",
       "\n",
       "    .dataframe thead th {\n",
       "        text-align: right;\n",
       "    }\n",
       "</style>\n",
       "<table border=\"1\" class=\"dataframe\">\n",
       "  <thead>\n",
       "    <tr style=\"text-align: right;\">\n",
       "      <th></th>\n",
       "      <th>RespId</th>\n",
       "      <th>weight</th>\n",
       "      <th>Q1</th>\n",
       "      <th>Q2_1</th>\n",
       "      <th>Q2_2</th>\n",
       "      <th>Q2_3</th>\n",
       "      <th>Q2_4</th>\n",
       "      <th>Q2_5</th>\n",
       "      <th>Q2_6</th>\n",
       "      <th>Q2_7</th>\n",
       "      <th>...</th>\n",
       "      <th>Q30</th>\n",
       "      <th>Q31</th>\n",
       "      <th>Q32</th>\n",
       "      <th>Q33</th>\n",
       "      <th>ppage</th>\n",
       "      <th>educ</th>\n",
       "      <th>race</th>\n",
       "      <th>gender</th>\n",
       "      <th>income_cat</th>\n",
       "      <th>voter_category</th>\n",
       "    </tr>\n",
       "  </thead>\n",
       "  <tbody>\n",
       "    <tr>\n",
       "      <th>0</th>\n",
       "      <td>470001</td>\n",
       "      <td>0.7516</td>\n",
       "      <td>1</td>\n",
       "      <td>1</td>\n",
       "      <td>1</td>\n",
       "      <td>2</td>\n",
       "      <td>4</td>\n",
       "      <td>1</td>\n",
       "      <td>4</td>\n",
       "      <td>2</td>\n",
       "      <td>...</td>\n",
       "      <td>2</td>\n",
       "      <td>NaN</td>\n",
       "      <td>1.0</td>\n",
       "      <td>NaN</td>\n",
       "      <td>73</td>\n",
       "      <td>College</td>\n",
       "      <td>White</td>\n",
       "      <td>Female</td>\n",
       "      <td>$75-125k</td>\n",
       "      <td>always</td>\n",
       "    </tr>\n",
       "    <tr>\n",
       "      <th>1</th>\n",
       "      <td>470002</td>\n",
       "      <td>1.0267</td>\n",
       "      <td>1</td>\n",
       "      <td>1</td>\n",
       "      <td>2</td>\n",
       "      <td>2</td>\n",
       "      <td>3</td>\n",
       "      <td>1</td>\n",
       "      <td>1</td>\n",
       "      <td>2</td>\n",
       "      <td>...</td>\n",
       "      <td>3</td>\n",
       "      <td>NaN</td>\n",
       "      <td>1.0</td>\n",
       "      <td>1.0</td>\n",
       "      <td>90</td>\n",
       "      <td>College</td>\n",
       "      <td>White</td>\n",
       "      <td>Female</td>\n",
       "      <td>$125k or more</td>\n",
       "      <td>always</td>\n",
       "    </tr>\n",
       "    <tr>\n",
       "      <th>2</th>\n",
       "      <td>470003</td>\n",
       "      <td>1.0844</td>\n",
       "      <td>1</td>\n",
       "      <td>1</td>\n",
       "      <td>1</td>\n",
       "      <td>2</td>\n",
       "      <td>2</td>\n",
       "      <td>1</td>\n",
       "      <td>1</td>\n",
       "      <td>2</td>\n",
       "      <td>...</td>\n",
       "      <td>2</td>\n",
       "      <td>NaN</td>\n",
       "      <td>2.0</td>\n",
       "      <td>1.0</td>\n",
       "      <td>53</td>\n",
       "      <td>College</td>\n",
       "      <td>White</td>\n",
       "      <td>Male</td>\n",
       "      <td>$125k or more</td>\n",
       "      <td>sporadic</td>\n",
       "    </tr>\n",
       "    <tr>\n",
       "      <th>3</th>\n",
       "      <td>470007</td>\n",
       "      <td>0.6817</td>\n",
       "      <td>1</td>\n",
       "      <td>1</td>\n",
       "      <td>1</td>\n",
       "      <td>1</td>\n",
       "      <td>3</td>\n",
       "      <td>1</td>\n",
       "      <td>1</td>\n",
       "      <td>1</td>\n",
       "      <td>...</td>\n",
       "      <td>2</td>\n",
       "      <td>NaN</td>\n",
       "      <td>1.0</td>\n",
       "      <td>1.0</td>\n",
       "      <td>58</td>\n",
       "      <td>Some college</td>\n",
       "      <td>Black</td>\n",
       "      <td>Female</td>\n",
       "      <td>$40-75k</td>\n",
       "      <td>sporadic</td>\n",
       "    </tr>\n",
       "    <tr>\n",
       "      <th>4</th>\n",
       "      <td>480008</td>\n",
       "      <td>0.9910</td>\n",
       "      <td>1</td>\n",
       "      <td>1</td>\n",
       "      <td>1</td>\n",
       "      <td>-1</td>\n",
       "      <td>1</td>\n",
       "      <td>1</td>\n",
       "      <td>1</td>\n",
       "      <td>1</td>\n",
       "      <td>...</td>\n",
       "      <td>1</td>\n",
       "      <td>-1.0</td>\n",
       "      <td>1.0</td>\n",
       "      <td>1.0</td>\n",
       "      <td>81</td>\n",
       "      <td>High school or less</td>\n",
       "      <td>White</td>\n",
       "      <td>Male</td>\n",
       "      <td>$40-75k</td>\n",
       "      <td>always</td>\n",
       "    </tr>\n",
       "  </tbody>\n",
       "</table>\n",
       "<p>5 rows × 119 columns</p>\n",
       "</div>"
      ],
      "text/plain": [
       "   RespId  weight  Q1  Q2_1  Q2_2  Q2_3  Q2_4  Q2_5  Q2_6  Q2_7  ...  Q30  \\\n",
       "0  470001  0.7516   1     1     1     2     4     1     4     2  ...    2   \n",
       "1  470002  1.0267   1     1     2     2     3     1     1     2  ...    3   \n",
       "2  470003  1.0844   1     1     1     2     2     1     1     2  ...    2   \n",
       "3  470007  0.6817   1     1     1     1     3     1     1     1  ...    2   \n",
       "4  480008  0.9910   1     1     1    -1     1     1     1     1  ...    1   \n",
       "\n",
       "   Q31  Q32  Q33  ppage                 educ   race  gender     income_cat  \\\n",
       "0  NaN  1.0  NaN     73              College  White  Female       $75-125k   \n",
       "1  NaN  1.0  1.0     90              College  White  Female  $125k or more   \n",
       "2  NaN  2.0  1.0     53              College  White    Male  $125k or more   \n",
       "3  NaN  1.0  1.0     58         Some college  Black  Female        $40-75k   \n",
       "4 -1.0  1.0  1.0     81  High school or less  White    Male        $40-75k   \n",
       "\n",
       "   voter_category  \n",
       "0          always  \n",
       "1          always  \n",
       "2        sporadic  \n",
       "3        sporadic  \n",
       "4          always  \n",
       "\n",
       "[5 rows x 119 columns]"
      ]
     },
     "execution_count": 3,
     "metadata": {},
     "output_type": "execute_result"
    }
   ],
   "source": [
    "survey_data.head()"
   ]
  },
  {
   "cell_type": "code",
   "execution_count": 4,
   "metadata": {},
   "outputs": [],
   "source": [
    "# A dictionary created which contains the potantional answers  \n",
    "answers_file=open('answers_sur.txt','r')\n",
    "answers_lines=answers_file.readlines()\n",
    "dictionary_ans=dict()\n",
    "\n",
    "list_qNum=['0']\n",
    "for line in answers_lines:\n",
    "    if line[0]=='Q':\n",
    "        list_qNum.append(line[1:].replace('\\n',''))\n",
    "\n",
    "key_tra=''\n",
    "count=0\n",
    "val_lines=''\n",
    "for line in answers_lines:\n",
    "    if line[0]=='Q':\n",
    "        dictionary_ans['Q'+list_qNum[count]]=val_lines\n",
    "        count=count+1\n",
    "        key_tra=line\n",
    "        val_lines=''\n",
    "    else:\n",
    "        val_lines=val_lines+line\n",
    "dictionary_ans['Q'+list_qNum[count]]=val_lines"
   ]
  },
  {
   "cell_type": "code",
   "execution_count": 5,
   "metadata": {},
   "outputs": [
    {
     "name": "stdout",
     "output_type": "stream",
     "text": [
      "1. A significant impact\n",
      "2. Somewhat of an impact\n",
      "3. Just a slight impact\n",
      "4. No impact at all\n",
      "\n"
     ]
    }
   ],
   "source": [
    "print(dictionary_ans['Q4'])\n"
   ]
  },
  {
   "cell_type": "code",
   "execution_count": 6,
   "metadata": {},
   "outputs": [],
   "source": [
    "# The creating the dictionary for questions. \n",
    "question_file=open('questions.txt','r')\n",
    "question_lines=question_file.readlines()\n",
    "dictionary_question=dict()\n",
    "count=0\n",
    "\n",
    "list_qNum=[]\n",
    "for x in range(len(question_lines)-2):\n",
    "    if question_lines[x][0]=='Q' and question_lines[x+1][0]=='Q':\n",
    "        qnum=question_lines[x][:4].replace('.','').replace(' ','')\n",
    "        list_qNum.append(qnum)\n",
    "        dictionary_question[qnum]=question_lines[x]\n",
    "    elif question_lines[x+1][0]!='Q':\n",
    "        flag_num=question_lines[x][:4].replace('.','').replace(' ','')\n",
    "        t=str(flag_num+'_'+ question_lines[x+1][:3].replace('.','').replace(' ',''))\n",
    "        list_qNum.append(t)\n",
    "        dictionary_question[t]=str(question_lines[x]+question_lines[x+1])"
   ]
  },
  {
   "cell_type": "code",
   "execution_count": 7,
   "metadata": {},
   "outputs": [
    {
     "data": {
      "text/plain": [
       "{'Q1': 'Q1. Are you a U.S. citizen?\\n',\n",
       " 'Q2_1': 'Q2. In your view, how important are each of the following to being a good American?\\n1. Voting in elections\\n',\n",
       " 'Q2_2': 'Q2. In your view, how important are each of the following to being a good American?\\n2. Serving on a jury\\n',\n",
       " 'Q2_3': 'Q2. In your view, how important are each of the following to being a good American?\\n3. Following what happens in government and politics\\n',\n",
       " 'Q2_4': 'Q2. In your view, how important are each of the following to being a good American?\\n4. Displaying the American flag\\n',\n",
       " 'Q2_5': 'Q2. In your view, how important are each of the following to being a good American?\\n5. Participating in the U.S. Census every ten years\\n',\n",
       " 'Q2_6': 'Q2. In your view, how important are each of the following to being a good American?\\n6. Knowing the Pledge of Allegiance\\n',\n",
       " 'Q2_7': 'Q2. In your view, how important are each of the following to being a good American?\\n7. Supporting the military\\n',\n",
       " 'Q2_8': 'Q2. In your view, how important are each of the following to being a good American?\\n8. Respecting the opinions of those who disagree with you\\n',\n",
       " 'Q2_9': 'Q2. In your view, how important are each of the following to being a good American?\\n9. Believing in God\\n',\n",
       " 'Q2_10': 'Q2. In your view, how important are each of the following to being a good American?\\n10. Protesting if you believe government actions are wrong\\n',\n",
       " 'Q3_1': 'Q3. How much do you agree or disagree with the following statements?\\n1. Systemic racism is a problem in the United States.\\n',\n",
       " 'Q3_2': 'Q3. How much do you agree or disagree with the following statements?\\n2. Systemic racism in policing is a bigger problem than violence and vandalism in protests.\\n',\n",
       " 'Q3_3': 'Q3. How much do you agree or disagree with the following statements?\\n3. Society as a whole has become too soft and feminine.\\n',\n",
       " 'Q3_4': 'Q3. How much do you agree or disagree with the following statements?\\n4. The mainstream media is more interested in making money than telling the truth.\\n',\n",
       " 'Q3_5': 'Q3. How much do you agree or disagree with the following statements?\\n5. Traditional parties and politicians don’t care about people like me.\\n',\n",
       " 'Q3_6': 'Q3. How much do you agree or disagree with the following statements?\\n6. The way people talk needs to change with the times to be more sensitive to people with different backgrounds.\\n',\n",
       " 'Q4_1': 'Q4. How much of an impact, if any, do each of the following have on your life?\\n1. Elected officials in Washington, D.C. (e.g. the president, member ofCongress)\\n',\n",
       " 'Q4_2': 'Q4. How much of an impact, if any, do each of the following have on your life?\\n2. Elected officials in my state (e.g. governor, state representative)\\n',\n",
       " 'Q4_3': 'Q4. How much of an impact, if any, do each of the following have on your life?\\n3. Elected officials in my city or community (e.g. mayor, city council)\\n',\n",
       " 'Q4_4': 'Q4. How much of an impact, if any, do each of the following have on your life?\\n4. The news media\\n',\n",
       " 'Q4_5': 'Q4. How much of an impact, if any, do each of the following have on your life?\\n5. Large financial institutions on Wall Street\\n',\n",
       " 'Q4_6': 'Q4. How much of an impact, if any, do each of the following have on your life?\\n6. Law enforcement and the legal system\\n',\n",
       " 'Q5': 'Q5. As far as making progress on the important issues facing the country, does it really matter who wins the 2020 presidential election, or will things be pretty much the sameregardless of who is elected president?\\n',\n",
       " 'Q6': 'Q6. In general, how many of the people in elected office today are like you?\\n',\n",
       " 'Q7': 'Q7. Thinking about the design and structure of American government, which would you sayis more in line with your view?\\n',\n",
       " 'Q8_1': 'Q8. How much would you say you trust each of the following?\\n1. The presidency\\n',\n",
       " 'Q8_2': 'Q8. How much would you say you trust each of the following?\\n2. Congress\\n',\n",
       " 'Q8_3': 'Q8. How much would you say you trust each of the following?\\n3. The Supreme Court\\n',\n",
       " 'Q8_4': 'Q8. How much would you say you trust each of the following?\\n4. The Centers for Disease Control (CDC)\\n',\n",
       " 'Q8_5': 'Q8. How much would you say you trust each of the following?\\n5. Election officials\\n',\n",
       " 'Q8_6': 'Q8. How much would you say you trust each of the following?\\n6. The intelligence community (e.g. FBI or CIA)\\n',\n",
       " 'Q8_7': 'Q8. How much would you say you trust each of the following?\\n7. The news media\\n',\n",
       " 'Q8_8': 'Q8. How much would you say you trust each of the following?\\n8. The police\\n',\n",
       " 'Q8_9': 'Q8. How much would you say you trust each of the following?\\n9. US Postal Service\\n',\n",
       " 'Q9_1': 'Q9. Now, we’re going to describe various types of political systems and ask what you thinkabout each as a way of governing this country?\\n1. Having a democracy, where politicians are elected\\n',\n",
       " 'Q9_2': 'Q9. Now, we’re going to describe various types of political systems and ask what you thinkabout each as a way of governing this country?\\n2. Having experts, not government, make decisions according to what they think is best forthe county\\n',\n",
       " 'Q9_3': 'Q9. Now, we’re going to describe various types of political systems and ask what you thinkabout each as a way of governing this country?\\n3. Having a strong leader who does not have to work with Congress and elections\\n',\n",
       " 'Q9_4': 'Q9. Now, we’re going to describe various types of political systems and ask what you thinkabout each as a way of governing this country?\\n4. Having the army rule\\n',\n",
       " 'Q10_1': 'Q10. Do any of the following currently apply to you?\\n1. Receiving long-term disability\\n',\n",
       " 'Q10_2': 'Q10. Do any of the following currently apply to you?\\n2. Have a chronic illness\\n',\n",
       " 'Q10_3': 'Q10. Do any of the following currently apply to you?\\n3. Been unemployed for more than a year\\n',\n",
       " 'Q10_4': 'Q10. Do any of the following currently apply to you?\\n4. Have been evicted from your home within the past year\\n',\n",
       " 'Q11_1': 'Q11. Since February of 2020, have any of the following things happened to you?\\n1. Lost your job, either temporarily or permanently\\n',\n",
       " 'Q11_2': 'Q11. Since February of 2020, have any of the following things happened to you?\\n2. Tested positive for COVID-19\\n',\n",
       " 'Q11_3': 'Q11. Since February of 2020, have any of the following things happened to you?\\n3. Had a friend or family member test positive for COVID-19\\n',\n",
       " 'Q11_4': 'Q11. Since February of 2020, have any of the following things happened to you?\\n4. Had a friend or family member die of COVID-19\\n',\n",
       " 'Q11_5': 'Q11. Since February of 2020, have any of the following things happened to you?\\n5. Worried about how you would pay for your rent or mortgage, for groceries, or health careexpenses\\n',\n",
       " 'Q11_6': 'Q11. Since February of 2020, have any of the following things happened to you?\\n6. Quit your job to care for a child or family member\\n',\n",
       " 'Q14': 'Q14. Based on your perceptions and experiences of the Republican Party, which is the mostaccurate description of the party’s attitude toward people like you?\\n',\n",
       " 'Q15': 'Q15. Based on your perceptions and experiences of the Democratic Party, which is the mostaccurate description of the party’s attitude toward people like you?\\n',\n",
       " 'Q16': 'Q16. In general, how easy or difficult do you think it is to vote in national elections?\\n',\n",
       " 'Q17_1': 'Q17. When thinking about a presidential election, how confident are you that each of theseways of voting are secure and safe from fraud?\\n1. In-person voting machines\\n',\n",
       " 'Q17_2': 'Q17. When thinking about a presidential election, how confident are you that each of theseways of voting are secure and safe from fraud?\\n2. Paper ballots cast in person\\n',\n",
       " 'Q17_3': 'Q17. When thinking about a presidential election, how confident are you that each of theseways of voting are secure and safe from fraud?\\n3. Paper ballots submitted by mail\\n',\n",
       " 'Q17_4': 'Q17. When thinking about a presidential election, how confident are you that each of theseways of voting are secure and safe from fraud?\\n4. Electronic votes submitted online or by email\\n',\n",
       " 'Q18_1': 'Q18. Have you or any members of your household ever experienced the following situationswhen trying to vote?\\n1. Was told they did not have the correct identification\\n',\n",
       " 'Q18_2': 'Q18. Have you or any members of your household ever experienced the following situationswhen trying to vote?\\n2. Could not find the polling place\\n',\n",
       " 'Q18_3': 'Q18. Have you or any members of your household ever experienced the following situationswhen trying to vote?\\n3. Missed the voter registration deadline\\n',\n",
       " 'Q18_4': 'Q18. Have you or any members of your household ever experienced the following situationswhen trying to vote?\\n4. Was unable to physically access the polling place\\n',\n",
       " 'Q18_5': 'Q18. Have you or any members of your household ever experienced the following situationswhen trying to vote?\\n5. Could not obtain necessary assistance to fill out a ballot\\n',\n",
       " 'Q18_6': 'Q18. Have you or any members of your household ever experienced the following situationswhen trying to vote?\\n6. Had to cast a provisional ballot\\n',\n",
       " 'Q18_7': 'Q18. Have you or any members of your household ever experienced the following situationswhen trying to vote?\\n7. Couldn’t get off work to vote when polls were open\\n',\n",
       " 'Q18_8': 'Q18. Have you or any members of your household ever experienced the following situationswhen trying to vote?\\n8. Waited in line to vote for more than an hour\\n',\n",
       " 'Q18_9': 'Q18. Have you or any members of your household ever experienced the following situationswhen trying to vote?\\n9. Was told name was not on the list even though they were registered\\n',\n",
       " 'Q18_10': 'Q18. Have you or any members of your household ever experienced the following situationswhen trying to vote?\\n10. Did not receive absentee or mail-in ballot in time\\n',\n",
       " 'Q19_1': 'Q19. Which of the following do you think would get more people to vote in national elections?\\n1. More outreach to ordinary Americans from candidates or elected officials\\n',\n",
       " 'Q19_2': 'Q19. Which of the following do you think would get more people to vote in national elections?\\n2. More information about the candidates from unbiased sources\\n',\n",
       " 'Q19_3': 'Q19. Which of the following do you think would get more people to vote in national elections?\\n3. Making Election Day a national holiday\\n',\n",
       " 'Q19_4': 'Q19. Which of the following do you think would get more people to vote in national elections?\\n4. Being automatically registered to vote\\n',\n",
       " 'Q19_5': 'Q19. Which of the following do you think would get more people to vote in national elections?\\n5. Automatically receiving a ballot in the mail\\n',\n",
       " 'Q19_6': 'Q19. Which of the following do you think would get more people to vote in national elections?\\n6. Being able to vote in-person before Election Day\\n',\n",
       " 'Q19_7': 'Q19. Which of the following do you think would get more people to vote in national elections?\\n7. Being able to register and vote on the same day\\n',\n",
       " 'Q19_8': 'Q19. Which of the following do you think would get more people to vote in national elections?\\n8. Being able to vote by phone or online\\n',\n",
       " 'Q19_9': 'Q19. Which of the following do you think would get more people to vote in national elections?\\n9. Having more candidates to choose from\\n',\n",
       " 'Q19_10': 'Q19. Which of the following do you think would get more people to vote in national elections?\\n10. Other [specify] [A]\\n',\n",
       " 'Q20': 'Q20. Are you currently registered to vote?\\n',\n",
       " 'Q21': 'Q21. On November 3, 2020 there will be an election for president, members of the UnitedStates Senate, House of Representatives, and other state and local offices. Do you planto vote in the November 2020 election? If you have already voted, please select ‘yes.’\\n',\n",
       " 'Q22': 'Q22. You previously indicated that you are not currently registered to vote. Which of thefollowing reasons best describes why you are not currently registered to vote?\\n',\n",
       " 'Q23': 'Q23. Which presidential candidate are you planning to support?\\n',\n",
       " 'Q24': 'Q24. Regardless of your current voter registration status and plans to vote (including if youhave already voted), what would be your preferred method of voting this year?\\n',\n",
       " 'Q25': 'Q25. How closely are you following the 2020 presidential race?\\n',\n",
       " 'Q26': 'Q26. Most eligible citizens don’t vote in every national election (the November generalelections). In general, which of the following categories do you think best describes you?\\n',\n",
       " 'Q27_1': 'Q27. Thinking back to some recent elections, as best you remember, did you vote in thefollowing elections?\\n1. The election for Congress in 2018\\n',\n",
       " 'Q27_2': 'Q27. Thinking back to some recent elections, as best you remember, did you vote in thefollowing elections?\\n2. The presidential election in 2016\\n',\n",
       " 'Q27_3': 'Q27. Thinking back to some recent elections, as best you remember, did you vote in thefollowing elections?\\n3. The election for Congress in 2014\\n',\n",
       " 'Q27_4': 'Q27. Thinking back to some recent elections, as best you remember, did you vote in thefollowing elections?\\n4. The presidential election in 2012\\n',\n",
       " 'Q27_5': 'Q27. Thinking back to some recent elections, as best you remember, did you vote in thefollowing elections?\\n5. The election for Congress in 2010\\n',\n",
       " 'Q27_6': 'Q27. Thinking back to some recent elections, as best you remember, did you vote in thefollowing elections?\\n6. The presidential election in 2008\\n',\n",
       " 'Q28_1': 'Q28. Thinking back to the last few national elections that you voted in, which of the followingwere the most important reasons in your decision to vote? Please choose all that apply.\\n1. Voting is an important civic duty\\n',\n",
       " 'Q28_2': 'Q28. Thinking back to the last few national elections that you voted in, which of the followingwere the most important reasons in your decision to vote? Please choose all that apply.\\n2. I was excited about one of the candidates and wanted to vote for him/her\\n',\n",
       " 'Q28_3': 'Q28. Thinking back to the last few national elections that you voted in, which of the followingwere the most important reasons in your decision to vote? Please choose all that apply.\\n3. I disliked one of the candidates and wanted to vote against him/her\\n',\n",
       " 'Q28_4': 'Q28. Thinking back to the last few national elections that you voted in, which of the followingwere the most important reasons in your decision to vote? Please choose all that apply.\\n4. I wanted to support the political party I identify with\\n',\n",
       " 'Q28_5': 'Q28. Thinking back to the last few national elections that you voted in, which of the followingwere the most important reasons in your decision to vote? Please choose all that apply.\\n5. There was a specific issue I cared about, and one of the candidates was better on that issue\\n',\n",
       " 'Q28_6': 'Q28. Thinking back to the last few national elections that you voted in, which of the following were the most important reasons in your decision to vote? Please choose all that apply.\\n6. I enjoy voting\\n',\n",
       " 'Q28_7': 'Q28. Thinking back to the last few national elections that you voted in, which of the following were the most important reasons in your decision to vote? Please choose all that apply.\\n7. Voting is easy\\n',\n",
       " 'Q28_8': 'Q28. Thinking back to the last few national elections that you voted in, which of the following were the most important reasons in your decision to vote? Please choose all that apply.\\n8. Other [specify] [A]\\n',\n",
       " 'Q29_1': 'Q29. Thinking back to the last few national elections where you decided not to vote, which of the following were the most important reasons in your decision not to vote?\\n1. I didn’t like any of the candidates\\n',\n",
       " 'Q29_2': 'Q29. Thinking back to the last few national elections where you decided not to vote, which of the following were the most important reasons in your decision not to vote?\\n2. Because of where I live, my vote doesn’t matter\\n',\n",
       " 'Q29_3': 'Q29. Thinking back to the last few national elections where you decided not to vote, which of the following were the most important reasons in your decision not to vote?\\n3. No matter who wins, nothing will change for people like me\\n',\n",
       " 'Q29_4': 'Q29. Thinking back to the last few national elections where you decided not to vote, which of the following were the most important reasons in your decision not to vote?\\n4. Our system is too broken to be fixed by voting\\n',\n",
       " 'Q29_5': 'Q29. Thinking back to the last few national elections where you decided not to vote, which of the following were the most important reasons in your decision not to vote?\\n5. I wanted to vote, but I didn’t have time, couldn’t get off work, something came up, or I forgot\\n',\n",
       " 'Q29_6': 'Q29. Thinking back to the last few national elections where you decided not to vote, which of the following were the most important reasons in your decision not to vote?\\n6. I’m not sure if I can vote\\n',\n",
       " 'Q29_7': 'Q29. Thinking back to the last few national elections where you decided not to vote, which of the following were the most important reasons in your decision not to vote?\\n7. Nobody talks about the issues that are important to me personally\\n',\n",
       " 'Q29_8': 'Q29. Thinking back to the last few national elections where you decided not to vote, which of the following were the most important reasons in your decision not to vote?\\n8. All the candidates are the same\\n',\n",
       " 'Q29_9': 'Q29. Thinking back to the last few national elections where you decided not to vote, which of the following were the most important reasons in your decision not to vote?\\n9. I don’t believe in voting\\n',\n",
       " 'Q29_10': 'Q29. Thinking back to the last few national elections where you decided not to vote, which of the following were the most important reasons in your decision not to vote?\\n10. Other [specify] [A]\\n',\n",
       " 'Q30': 'Q30. Generally speaking, do you think of yourself as a...Select one answer only.\\n',\n",
       " 'Q31': 'Q31. Would you call yourself a...\\n',\n",
       " 'Q32': 'Q32. Would you call yourself a...\\n',\n",
       " 'Q33': 'Q33. Do you think of yourself as closer to the...\\n'}"
      ]
     },
     "execution_count": 7,
     "metadata": {},
     "output_type": "execute_result"
    }
   ],
   "source": [
    "dictionary_question"
   ]
  },
  {
   "cell_type": "code",
   "execution_count": 8,
   "metadata": {},
   "outputs": [
    {
     "data": {
      "text/plain": [
       "{'always', 'rarely/never', 'sporadic'}"
      ]
     },
     "execution_count": 8,
     "metadata": {},
     "output_type": "execute_result"
    }
   ],
   "source": [
    "set(survey_data['voter_category'])"
   ]
  },
  {
   "attachments": {},
   "cell_type": "markdown",
   "metadata": {},
   "source": [
    "# The dictionaries: \n",
    "-question_ans: takes the column name and potantional answers\n",
    "    \n",
    "-dictionary_ans: takes the column name and gives the question  "
   ]
  },
  {
   "cell_type": "code",
   "execution_count": 9,
   "metadata": {},
   "outputs": [
    {
     "data": {
      "text/plain": [
       "'Q19. Which of the following do you think would get more people to vote in national elections?\\n9. Having more candidates to choose from\\n'"
      ]
     },
     "execution_count": 9,
     "metadata": {},
     "output_type": "execute_result"
    }
   ],
   "source": [
    "dictionary_question['Q19_9']"
   ]
  },
  {
   "cell_type": "code",
   "execution_count": 10,
   "metadata": {},
   "outputs": [],
   "source": [
    "q19_columns=[]\n",
    "for x in range(1,10):\n",
    "\n",
    "    q19_columns.append(dictionary_question['Q19_'+str(x)].split('\\n')[1][2:])"
   ]
  },
  {
   "cell_type": "code",
   "execution_count": 11,
   "metadata": {},
   "outputs": [
    {
     "data": {
      "text/plain": [
       "Q19_9  voter_category\n",
       "-1     always            1465\n",
       "       rarely/never      1012\n",
       "       sporadic          1943\n",
       " 1     always             346\n",
       "       rarely/never       439\n",
       "       sporadic           631\n",
       "Name: RespId, dtype: int64"
      ]
     },
     "execution_count": 11,
     "metadata": {},
     "output_type": "execute_result"
    }
   ],
   "source": [
    "survey_data.groupby(['Q19_'+str(9),'voter_category']).count()['RespId']"
   ]
  },
  {
   "cell_type": "code",
   "execution_count": 12,
   "metadata": {},
   "outputs": [
    {
     "data": {
      "text/plain": [
       "<pandas.core.groupby.generic.DataFrameGroupBy object at 0x00000215BDC44C40>"
      ]
     },
     "execution_count": 12,
     "metadata": {},
     "output_type": "execute_result"
    }
   ],
   "source": [
    "survey_data.groupby(['Q19_'+str(x),'voter_category'])"
   ]
  },
  {
   "cell_type": "code",
   "execution_count": 13,
   "metadata": {},
   "outputs": [],
   "source": [
    "q19_ans_3=np.zeros([3,9])\n",
    "q19_ans_1=np.zeros([9,1])\n",
    "survey_data.groupby(['Q19_10']).count()['RespId'].values[0]\n",
    "\n",
    "for x in range(1,10):\n",
    "    q19_ans_1[x-1]=survey_data.groupby(['Q19_'+str(x)]).count()['RespId'].values[1]/(survey_data.groupby(['Q19_'+str(x)]).count()['RespId'].values[0]+survey_data.groupby(['Q19_'+str(x)]).count()['RespId'].values[1])\n",
    "    for t in range(3):\n",
    "        q19_ans_3[t,x-1]=survey_data.groupby(['Q19_'+str(x),'voter_category']).count()['RespId'].values[t+3]/(survey_data.groupby(['Q19_'+str(x),'voter_category']).count()['RespId'].values[t+3]+survey_data.groupby(['Q19_'+str(x),'voter_category']).count()['RespId'].values[t])\n",
    "    dictionary_question['Q19_'+str(x)]\n"
   ]
  },
  {
   "cell_type": "code",
   "execution_count": 14,
   "metadata": {},
   "outputs": [],
   "source": [
    "df_q19_3=pd.DataFrame(q19_ans_3,columns=q19_columns,index=['Always','Never','Sporadic'])\n"
   ]
  },
  {
   "cell_type": "code",
   "execution_count": 15,
   "metadata": {},
   "outputs": [
    {
     "data": {
      "text/plain": [
       "<bound method Series.sort_values of  More outreach to ordinary Americans from candidates or elected officials    0.248105\n",
       " More information about the candidates from unbiased sources                 0.458994\n",
       " Making Election Day a national holiday                                      0.485872\n",
       " Being automatically registered to vote                                      0.383184\n",
       " Automatically receiving a ballot in the mail                                0.376981\n",
       " Being able to vote in-person before Election Day                            0.416265\n",
       " Being able to register and vote on the same day                             0.382495\n",
       " Being able to vote by phone or online                                       0.339766\n",
       " Having more candidates to choose from                                       0.302550\n",
       "Name: Never, dtype: float64>"
      ]
     },
     "execution_count": 15,
     "metadata": {},
     "output_type": "execute_result"
    }
   ],
   "source": [
    "df_q19_3.loc['Never'].sort_values"
   ]
  },
  {
   "cell_type": "code",
   "execution_count": 16,
   "metadata": {},
   "outputs": [],
   "source": [
    "df_q19_1=pd.DataFrame(df_q19_3.loc['Never'].sort_values(),index=q19_columns)"
   ]
  },
  {
   "cell_type": "code",
   "execution_count": 17,
   "metadata": {},
   "outputs": [
    {
     "data": {
      "text/plain": [
       " More outreach to ordinary Americans from candidates or elected officials    0.248105\n",
       " More information about the candidates from unbiased sources                 0.458994\n",
       " Making Election Day a national holiday                                      0.485872\n",
       " Being automatically registered to vote                                      0.383184\n",
       " Automatically receiving a ballot in the mail                                0.376981\n",
       " Being able to vote in-person before Election Day                            0.416265\n",
       " Being able to register and vote on the same day                             0.382495\n",
       " Being able to vote by phone or online                                       0.339766\n",
       " Having more candidates to choose from                                       0.302550\n",
       "Name: Never, dtype: float64"
      ]
     },
     "execution_count": 17,
     "metadata": {},
     "output_type": "execute_result"
    }
   ],
   "source": [
    "df_q19_3.loc['Never']"
   ]
  },
  {
   "cell_type": "code",
   "execution_count": 18,
   "metadata": {},
   "outputs": [],
   "source": [
    "plt.rcParams.update({'font.size': 32})\n",
    "\n"
   ]
  },
  {
   "cell_type": "code",
   "execution_count": 19,
   "metadata": {},
   "outputs": [
    {
     "data": {
      "text/plain": [
       "<AxesSubplot:>"
      ]
     },
     "execution_count": 19,
     "metadata": {},
     "output_type": "execute_result"
    },
    {
     "data": {
      "image/png": "[encoded data removed]",
      "text/plain": [
       "<Figure size 504x504 with 2 Axes>"
      ]
     },
     "metadata": {
      "needs_background": "light"
     },
     "output_type": "display_data"
    }
   ],
   "source": [
    "plt.figure(figsize=[7,7])\n",
    "plt.rcParams.update({'font.size': 22})\n",
    "\n",
    "sns.heatmap(df_q19_1.sort_values(by=\"Never\", ascending=False),cmap='Purples',annot=True)"
   ]
  }
 ],
 "metadata": {
  "kernelspec": {
   "display_name": "myenv",
   "language": "python",
   "name": "python3"
  },
  "language_info": {
   "codemirror_mode": {
    "name": "ipython",
    "version": 3
   },
   "file_extension": ".py",
   "mimetype": "text/x-python",
   "name": "python",
   "nbconvert_exporter": "python",
   "pygments_lexer": "ipython3",
   "version": "3.9.11"
  },
  "orig_nbformat": 4,
  "vscode": {
   "interpreter": {
    "hash": "7d295dbd7002ec71f2b4973d1b777432708fa2214360627ae3b176c7abb21ad9"
   }
  }
 },
 "nbformat": 4,
 "nbformat_minor": 2
}
